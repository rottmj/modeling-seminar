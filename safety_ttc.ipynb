{
 "cells": [
  {
   "cell_type": "code",
   "execution_count": null,
   "id": "ea67ac11",
   "metadata": {},
   "outputs": [],
   "source": [
    "from environment.env import CarFollowingEnvironment\n",
    "from environment.configs import simulation_config\n",
    "from model.ddpg import *\n",
    "from utils import *\n",
    "\n",
    "\n",
    "import matplotlib.pyplot as plt"
   ]
  },
  {
   "cell_type": "code",
   "execution_count": null,
   "id": "5b160cd8",
   "metadata": {},
   "outputs": [],
   "source": [
    "path = ...\n",
    "\n",
    "\n",
    "\n",
    "# fix seed\n",
    "seed = 64\n",
    "set_random_seed(seed)\n",
    "\n",
    "betas = [0.0+0.25*i for i in range(20)]\n",
    "\n",
    "for i in range(20):\n",
    "    # initialize environment\n",
    "    env = CarFollowingEnvironment(simulation_config)\n",
    "    \n",
    "    env.betas = betas[i]\n",
    "    \n",
    "    # initialize model\n",
    "    path = \"effiency_experiment_run\" + str(i) + \"\\\\\"\n",
    "    model = DDPG(path=path)\n",
    "\n",
    "    model.actor_model.load_weights(path + \"\\actor_highhest_reward_model.h5\")\n",
    "    model.critic_model.load_weights(path + \"\\critic_highhest_reward_model.h5\")\n",
    "    model.target_actor.load_weights(path + \"\\t_actor_highhest_reward_model.h5\")\n",
    "    model.target_critic.load_weights(path + \"\\t_critic_highhest_reward_model.h5\")\n",
    "    \n",
    "    \n",
    "    # train\n",
    "    ep_reward_list, avg_reward_list, num_steps_list = model.train(env)\n",
    "\n",
    "    # plot return\n",
    "    plot_return(avg_reward_list, path)\n",
    "\n",
    "    # save data\n",
    "    save_data(path, ep_reward_list, avg_reward_list, num_steps_list)"
   ]
  },
  {
   "cell_type": "code",
   "execution_count": null,
   "id": "234c83c2",
   "metadata": {},
   "outputs": [],
   "source": []
  }
 ],
 "metadata": {
  "kernelspec": {
   "display_name": "Python 3 (ipykernel)",
   "language": "python",
   "name": "python3"
  },
  "language_info": {
   "codemirror_mode": {
    "name": "ipython",
    "version": 3
   },
   "file_extension": ".py",
   "mimetype": "text/x-python",
   "name": "python",
   "nbconvert_exporter": "python",
   "pygments_lexer": "ipython3",
   "version": "3.9.12"
  }
 },
 "nbformat": 4,
 "nbformat_minor": 5
}
